{
 "cells": [
  {
   "cell_type": "code",
   "execution_count": 1,
   "metadata": {},
   "outputs": [],
   "source": [
    "import pandas as pd\n",
    "import numpy as np\n"
   ]
  },
  {
   "cell_type": "code",
   "execution_count": null,
   "metadata": {},
   "outputs": [],
   "source": [
    "# Cargar las hojas del archivo en dataframes\n",
    "questions_df = pd.read_excel(xls, sheet_name=\"Question\")\n",
    "cohort_data_df = pd.read_excel(xls, sheet_name=\"Cohort Data\")\n",
    "high_level_data_df = pd.read_excel(xls, sheet_name=\"High Level Data\")\n",
    "\n",
    "# Mostrar una vista previa de cada hoja para entender su contenido\n",
    "questions_df.head(), cohort_data_df.head(), high_level_data_df.head()\n"
   ]
  }
 ],
 "metadata": {
  "kernelspec": {
   "display_name": "Python 3",
   "language": "python",
   "name": "python3"
  },
  "language_info": {
   "codemirror_mode": {
    "name": "ipython",
    "version": 3
   },
   "file_extension": ".py",
   "mimetype": "text/x-python",
   "name": "python",
   "nbconvert_exporter": "python",
   "pygments_lexer": "ipython3",
   "version": "3.13.1"
  }
 },
 "nbformat": 4,
 "nbformat_minor": 2
}
